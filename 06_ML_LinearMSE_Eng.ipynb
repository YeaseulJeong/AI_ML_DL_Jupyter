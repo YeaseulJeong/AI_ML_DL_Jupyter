{
 "cells": [
  {
   "cell_type": "code",
   "execution_count": 3,
   "metadata": {},
   "outputs": [],
   "source": [
    "# This code is to interpret Korean\n",
    "\n",
    "import platform\n",
    "\n",
    "from matplotlib import font_manager, rc\n",
    "plt.rcParams['axes.unicode_minus'] = False\n",
    "\n",
    "if platform.system() == 'Darwin':\n",
    "    rc('font', family='AppleGothic')\n",
    "elif platform.system() == 'Windows':\n",
    "    path = \"c:/Windows/Fonts/malgun.ttf\"\n",
    "    font_name = font_manager.FontProperties(fname=path).get_name()\n",
    "    rc('font', family=font_name)\n",
    "else:\n",
    "    print('Unknown system!!') "
   ]
  },
  {
   "cell_type": "code",
   "execution_count": null,
   "metadata": {},
   "outputs": [],
   "source": []
  },
  {
   "cell_type": "markdown",
   "metadata": {},
   "source": [
    "## Drawing Linear Regression Line\n",
    "### Using Study Hours & Scores Data"
   ]
  },
  {
   "cell_type": "code",
   "execution_count": 9,
   "metadata": {},
   "outputs": [
    {
     "data": {
      "image/png": "[encoded data removed]",
      "text/plain": [
       "<Figure size 432x288 with 1 Axes>"
      ]
     },
     "metadata": {
      "needs_background": "light"
     },
     "output_type": "display_data"
    }
   ],
   "source": [
    "import numpy as np\n",
    "import pandas as pd\n",
    "import matplotlib.pyplot as plt\n",
    "\n",
    "X = [2,  4,  6,  8]     # Study Hours\n",
    "Y = [81, 93, 91, 97]    # Test Scores\n",
    "\n",
    "plt.scatter(X,Y) \n",
    "plt.xlabel('Study Hours')    #  Explanatory(independent) variable\n",
    "plt.ylabel('Test Score')   #   Dependent variable\n",
    "plt.show()"
   ]
  },
  {
   "cell_type": "code",
   "execution_count": null,
   "metadata": {},
   "outputs": [],
   "source": []
  },
  {
   "cell_type": "markdown",
   "metadata": {},
   "source": [
    "## Use Least Squared Method to find a Gradient and an Intercept\n",
    "\n",
    "### y= ax+b\n",
    "\n",
    "    a = ((x-mean of x)(y-mean of y))sum / ((x-mean of x)**2)sum\n",
    "    b = mean of y-(mean of x * Gradient a)\n",
    "    \n",
    "### "
   ]
  },
  {
   "cell_type": "code",
   "execution_count": 10,
   "metadata": {
    "scrolled": true
   },
   "outputs": [
    {
     "data": {
      "text/plain": [
       "array([83.6, 88.2, 92.8, 97.4])"
      ]
     },
     "execution_count": 10,
     "metadata": {},
     "output_type": "execute_result"
    }
   ],
   "source": [
    "mx = np.mean(X)\n",
    "#print(mx)\n",
    "\n",
    "my = np.mean(Y)\n",
    "#print(my)\n",
    "\n",
    "divisor = sum([(i-mx) **2 for i in X])\n",
    "# Gradient a's Denominator \n",
    " \n",
    "def top(X, mx, Y, my):\n",
    "    d=0\n",
    "    for i in range(len(X)):\n",
    "        d+= (X[i]-mx)*(Y[i]-my)\n",
    "    return d\n",
    "\n",
    "divide= top(X,mx,Y,my)\n",
    "# Gradient a's Numerator\n",
    "\n",
    "a=divide/divisor\n",
    "# Gradient a\n",
    "\n",
    "b=my-(mx*a)\n",
    "# Intercept b\n",
    "\n",
    "\n",
    "X=np.array(X)   \n",
    "X\n",
    "Y=np.array(Y)\n",
    "Y\n",
    "# Can't multiply sequence by non-int of type 'numpy.float64'  >>>  Needs to be converted into numpy array   X=np.array(X) \n",
    "\n",
    "\n",
    "predict = a*X+b   \n",
    "predict"
   ]
  },
  {
   "cell_type": "code",
   "execution_count": 14,
   "metadata": {
    "scrolled": true
   },
   "outputs": [
    {
     "data": {
      "image/png": "[encoded data removed]",
      "text/plain": [
       "<Figure size 432x288 with 1 Axes>"
      ]
     },
     "metadata": {
      "needs_background": "light"
     },
     "output_type": "display_data"
    }
   ],
   "source": [
    "plt.scatter(X,Y)\n",
    "plt.plot(X, predict, c='r')   # scatter 가 아니라 plot 직선을 사용해야\n",
    "plt.xlabel('Study Hours')\n",
    "plt.ylabel('Test Score')\n",
    "plt.show()"
   ]
  },
  {
   "cell_type": "code",
   "execution_count": null,
   "metadata": {},
   "outputs": [],
   "source": []
  },
  {
   "cell_type": "markdown",
   "metadata": {},
   "source": [
    "### Completed HYPOTHESIS is by finding Gradient and Intercept using Leaset Squared Method (LSM)\n",
    "### Next thing to do is make predictions and gain Loss/Cost Value using MSE \n",
    "$$\n",
    "   \\frac{1}{n}\\sum(pred_i - y_i)^2\n",
    "   $$\n",
    "### Then make the Loss/Cost value to 0 by repeating Gradiet Descent method (Back Propagation algorithm)"
   ]
  },
  {
   "cell_type": "code",
   "execution_count": 15,
   "metadata": {},
   "outputs": [
    {
     "data": {
      "text/plain": [
       "8.299999999999985"
      ]
     },
     "execution_count": 15,
     "metadata": {},
     "output_type": "execute_result"
    }
   ],
   "source": [
    "def mse(y_hat, y):\n",
    "    return((y_hat - y)**2).mean()\n",
    "\n",
    "mse(predict, Y)\n",
    "\n",
    "# cost is 8.29999999 "
   ]
  },
  {
   "cell_type": "code",
   "execution_count": null,
   "metadata": {},
   "outputs": [],
   "source": []
  },
  {
   "cell_type": "markdown",
   "metadata": {},
   "source": [
    "### P.S Figuring out how MSE works"
   ]
  },
  {
   "cell_type": "code",
   "execution_count": 16,
   "metadata": {},
   "outputs": [],
   "source": [
    "data=[[2,81],[4,93],[6,91],[8,97]]\n",
    "x=[i[0] for i in data]\n",
    "y=[i[1] for i in data]"
   ]
  },
  {
   "cell_type": "code",
   "execution_count": 17,
   "metadata": {},
   "outputs": [],
   "source": [
    "temp_a_b = [3,76]\n",
    "\n",
    "# Randomly designate a, b"
   ]
  },
  {
   "cell_type": "code",
   "execution_count": 18,
   "metadata": {},
   "outputs": [],
   "source": [
    "def predict(x):\n",
    "    return temp_a_b[0]*x + temp_a_b[1]"
   ]
  },
  {
   "cell_type": "code",
   "execution_count": 19,
   "metadata": {},
   "outputs": [],
   "source": [
    "def mse(y_hat, y):\n",
    "    return((y_hat - y)**2).mean()"
   ]
  },
  {
   "cell_type": "code",
   "execution_count": 20,
   "metadata": {},
   "outputs": [],
   "source": [
    "def mse_val(predict_result, y):\n",
    "    return mse(np.array(predict_result), np.array(y))\n",
    "\n",
    "# In order to do mathmetical operation, it must be converted into numpy"
   ]
  },
  {
   "cell_type": "code",
   "execution_count": 21,
   "metadata": {},
   "outputs": [
    {
     "name": "stdout",
     "output_type": "stream",
     "text": [
      "Study Hours=2, Test Score=81, Predicted Score=82\n",
      "Study Hours=4, Test Score=93, Predicted Score=88\n",
      "Study Hours=6, Test Score=91, Predicted Score=94\n",
      "Study Hours=8, Test Score=97, Predicted Score=100\n"
     ]
    }
   ],
   "source": [
    "predict_result=[]   \n",
    "# List for predictions\n",
    "\n",
    "for i in range(len(x)):    \n",
    "    predict_result.append(predict(x[i]))\n",
    "    print('Study Hours=%.f, Test Score=%.f, Predicted Score=%.f' %(x[i], y[i], predict(x[i])))"
   ]
  },
  {
   "cell_type": "code",
   "execution_count": 22,
   "metadata": {},
   "outputs": [
    {
     "name": "stdout",
     "output_type": "stream",
     "text": [
      "Fianl MSE \"(Loss/Cost Value)\":  11.0\n"
     ]
    }
   ],
   "source": [
    "print('Fianl MSE \"(Loss/Cost Value)\": ', mse_val(predict_result,y))"
   ]
  },
  {
   "cell_type": "markdown",
   "metadata": {},
   "source": [
    "### The next step is to make the Loss/Cost value to 0 by repeating Gradiet Descent method (Back Propagation algorithm)"
   ]
  }
 ],
 "metadata": {
  "kernelspec": {
   "display_name": "Python 3 (ipykernel)",
   "language": "python",
   "name": "python3"
  },
  "language_info": {
   "codemirror_mode": {
    "name": "ipython",
    "version": 3
   },
   "file_extension": ".py",
   "mimetype": "text/x-python",
   "name": "python",
   "nbconvert_exporter": "python",
   "pygments_lexer": "ipython3",
   "version": "3.9.7"
  }
 },
 "nbformat": 4,
 "nbformat_minor": 4
}
