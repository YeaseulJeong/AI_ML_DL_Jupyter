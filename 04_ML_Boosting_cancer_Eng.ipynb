{
 "cells": [
  {
   "cell_type": "markdown",
   "metadata": {},
   "source": [
    "### Ensemble and Gradient Boosting Model\n",
    "    Ensemble algorithms\n",
    "    1) RandomForest Machine --> Bagging method\n",
    "    2) GradientBoosting Machine --> Boosting method\n",
    "\n",
    "### Boosting method, Loss vlaue, Gradient Descent method, Back-propagation\n",
    "    - GradientBoosting algorithm uses Boosting method.\n",
    "    - By using the Boosting method, model decreases the loss value (ultimately making loss value close to 0) by updating the weight after training-predicting process\n",
    "    - The way model updates the weight is by using Gradient Descent method which use back-propagation algorithm\n",
    "    - This algorithm uses Gradient Descent method for training model\n",
    "    - GradientBoosting has more hyperparameters compare to RandomForest \n",
    "      (max_depth, min_sample_split // n_estimators, max_features, n_jobs) //  + learning_rate  (default 0.01)\n",
    "    - Learning_rate is the most crucial hyperparameter that prevents model from OVERFITTING\n",
    "    - So the outcome and efficiency of the model heavily depends on the hyperparameters  >> GridSearch can help\n",
    "    \n",
    "### What is Boosting method\n",
    "    - Compared to RandomForest (bagging method) which uses a number of Decision Tree, Gradient Boosting (boosting method) uses ONLY 1 Decision Tree and repeats the training only on that ONE Decision Tree\n",
    "    - If ONE Decision Tree has high entropy (=high gini), Boosting method goes back to given Decision Tree model and updates the \n",
    "    weight. \n",
    "    - Boosting method is focusing on the wrong answers and finding the main reason for being wrong\n",
    "    - SEQUENTIAL not PARALLEL"
   ]
  },
  {
   "cell_type": "code",
   "execution_count": 14,
   "metadata": {},
   "outputs": [
    {
     "data": {
      "text/plain": [
       "0.9929577464788732"
      ]
     },
     "metadata": {},
     "output_type": "display_data"
    },
    {
     "data": {
      "text/plain": [
       "0.916083916083916"
      ]
     },
     "metadata": {},
     "output_type": "display_data"
    },
    {
     "name": "stdout",
     "output_type": "stream",
     "text": [
      "############################################################\n",
      "Training dataset Accuracy: 0.993\n",
      "Test dataset Accuracy: 0.916\n"
     ]
    }
   ],
   "source": [
    "from sklearn.datasets import load_breast_cancer\n",
    "from sklearn.ensemble import GradientBoostingClassifier\n",
    "from sklearn.model_selection import train_test_split\n",
    "import matplotlib.pyplot as plt\n",
    "import numpy as np\n",
    "\n",
    "cancer= load_breast_cancer()\n",
    "X_train, X_test, y_train, y_test = train_test_split(cancer.data, cancer.target)\n",
    "\n",
    "#cancer_gb = GradientBoostingClassifier(random_state=0)\n",
    "#cancer_gb = GradientBoostingClassifier(random_state=0, max_depth=1)\n",
    "cancer_gb = GradientBoostingClassifier(random_state=0, learning_rate=0.01)\n",
    "\n",
    "# Adding learning_rate and random_state hyperparameters to avoid OVERFITTING\n",
    "\n",
    "cancer_gb.fit(X_train, y_train)\n",
    "train_score = cancer_gb.score(X_train, y_train)\n",
    "test_score = cancer_gb.score(X_test, y_test)\n",
    "display(train_score, test_score)\n",
    "print('#'*60)\n",
    "print('Training dataset Accuracy: {:.3f}'.format(train_score))\n",
    "print('Test dataset Accuracy: {:.3f}'.format(test_score))"
   ]
  },
  {
   "cell_type": "code",
   "execution_count": null,
   "metadata": {},
   "outputs": [],
   "source": []
  },
  {
   "cell_type": "markdown",
   "metadata": {},
   "source": [
    "## Feature Importances"
   ]
  },
  {
   "cell_type": "code",
   "execution_count": 14,
   "metadata": {},
   "outputs": [
    {
     "data": {
      "image/png": "[encoded data removed]",
      "text/plain": [
       "<Figure size 432x288 with 1 Axes>"
      ]
     },
     "metadata": {
      "needs_background": "light"
     },
     "output_type": "display_data"
    }
   ],
   "source": [
    "def plot_feature_importances_cancer(gb):\n",
    "    n_features = cancer.data.shape[1] \n",
    "    plt.barh(range(n_features), gb.feature_importances_, align='center')\n",
    "    plt.yticks(np.arange(n_features), cancer.feature_names)\n",
    "    plt.xlabel('Feature Importances')\n",
    "    plt.ylabel('Features')\n",
    "    plt.ylim(-1, n_features)\n",
    "    \n",
    "plot_feature_importances_cancer(gb)"
   ]
  },
  {
   "cell_type": "code",
   "execution_count": null,
   "metadata": {},
   "outputs": [],
   "source": []
  },
  {
   "cell_type": "markdown",
   "metadata": {},
   "source": [
    "## Grid Search\n",
    "    - Grid search is a tuning technique that attempts to compute the optimum values of hyperparameters. It is an exhaustive search           that is performed on a the specific parameter values of a model\n",
    "    - Don't have to manually modify the hyperparameters based on the loss value. Grid Search automatically does it for you"
   ]
  },
  {
   "cell_type": "code",
   "execution_count": 16,
   "metadata": {},
   "outputs": [],
   "source": [
    "from sklearn.model_selection import GridSearchCV\n",
    "\n",
    "# GridSearch looks for the most optimal hyperparameters and does the cross-validation among them"
   ]
  },
  {
   "cell_type": "code",
   "execution_count": 20,
   "metadata": {},
   "outputs": [],
   "source": [
    "param_grid ={\n",
    "    \n",
    "    'n_estimators':[100,150,200,250],\n",
    "    'max_depth': [3,5,7,9],\n",
    "    'learning_rate': [0.1,0.01,0.02,0.001]\n",
    "    \n",
    "}\n",
    "\n",
    "# Supposing n_estimators, max_depth, learning_rate are the examples chosen as the optimal hyperprameters\n",
    "# GridSearch go through corss-validation to check the most optimal values in [ ] for each hyperparameters"
   ]
  },
  {
   "cell_type": "code",
   "execution_count": 21,
   "metadata": {
    "scrolled": true
   },
   "outputs": [
    {
     "name": "stdout",
     "output_type": "stream",
     "text": [
      "Fitting 5 folds for each of 64 candidates, totalling 320 fits\n"
     ]
    },
    {
     "data": {
      "text/plain": [
       "{'learning_rate': 0.1, 'max_depth': 3, 'n_estimators': 200}"
      ]
     },
     "execution_count": 21,
     "metadata": {},
     "output_type": "execute_result"
    }
   ],
   "source": [
    "gmodel = GradientBoostingClassifier()\n",
    "\n",
    "grid_search = GridSearchCV(gmodel, \n",
    "                           param_grid = param_grid,\n",
    "                           n_jobs=-1,\n",
    "                           verbose=2)\n",
    "\n",
    "grid_search.fit(X_train, y_train)\n",
    "grid_search.best_params_"
   ]
  },
  {
   "cell_type": "code",
   "execution_count": null,
   "metadata": {},
   "outputs": [],
   "source": []
  },
  {
   "cell_type": "markdown",
   "metadata": {},
   "source": [
    "## In summary"
   ]
  },
  {
   "cell_type": "code",
   "execution_count": 13,
   "metadata": {},
   "outputs": [
    {
     "name": "stdout",
     "output_type": "stream",
     "text": [
      "############################################################\n",
      "Training dataset Accuracy: 0.984\n",
      "Trest dataset Accuracy: 0.972\n"
     ]
    }
   ],
   "source": [
    "gmodel2=GradientBoostingClassifier(random_state=0, learning_rate=0.1)\n",
    "# learning_rate, random_state are chosen as the hyperparameter\n",
    "\n",
    "gmodel2.fit(X_train, y_train)\n",
    "\n",
    "train_score = cancer_gb.score(X_train, y_train)\n",
    "test_score = cancer_gb.score(X_test, y_test)\n",
    "\n",
    "print('#'*60)\n",
    "print('Training dataset Accuracy: {:.3f}'.format(train_score))\n",
    "print('Trest dataset Accuracy: {:.3f}'.format(test_score))"
   ]
  },
  {
   "cell_type": "code",
   "execution_count": null,
   "metadata": {},
   "outputs": [],
   "source": []
  }
 ],
 "metadata": {
  "kernelspec": {
   "display_name": "Python 3 (ipykernel)",
   "language": "python",
   "name": "python3"
  },
  "language_info": {
   "codemirror_mode": {
    "name": "ipython",
    "version": 3
   },
   "file_extension": ".py",
   "mimetype": "text/x-python",
   "name": "python",
   "nbconvert_exporter": "python",
   "pygments_lexer": "ipython3",
   "version": "3.9.7"
  }
 },
 "nbformat": 4,
 "nbformat_minor": 4
}
