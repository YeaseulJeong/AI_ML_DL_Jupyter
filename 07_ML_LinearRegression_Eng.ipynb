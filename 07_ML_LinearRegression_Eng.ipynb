{
 "cells": [
  {
   "cell_type": "markdown",
   "metadata": {},
   "source": [
    "## Linear Regression Practice\n",
    "### Changing Celsius to Fahrenheit\n",
    "#### Just like H(x) = aX + b, F = C*1.8 +32 "
   ]
  },
  {
   "cell_type": "markdown",
   "metadata": {},
   "source": [
    "# Situation1) Gradient (1.8) and Intercept(32) are already given\n",
    "## Generate Dataset\n",
    "### To solve linear regression problem"
   ]
  },
  {
   "cell_type": "code",
   "execution_count": 13,
   "metadata": {},
   "outputs": [],
   "source": [
    "%matplotlib inline\n",
    "import numpy as np\n",
    "import pandas as pd\n",
    "import matplotlib.pyplot as plt"
   ]
  },
  {
   "cell_type": "code",
   "execution_count": 14,
   "metadata": {},
   "outputs": [
    {
     "data": {
      "text/plain": [
       "array([ 8, 24, 67, 87, 79, 48, 10, 94, 52, 98, 53, 66, 98, 14, 34, 24, 15,\n",
       "       60, 58, 16,  9, 93, 86,  2, 27,  4, 31,  1, 13, 83,  4, 91, 59, 67,\n",
       "        7, 49, 47, 65, 61, 14, 55, 71, 80,  2, 94, 19, 98, 63, 53, 27, 56,\n",
       "       30, 48, 47, 39, 38, 44, 18, 64, 56, 34, 53, 74, 17, 72, 13, 30, 17,\n",
       "       53, 68, 50, 91, 91, 83, 53, 78,  0, 13, 57, 76,  3, 70,  3, 84, 79,\n",
       "       10, 87, 60,  3, 48, 52, 43, 36,  5, 71, 38, 86, 94, 98, 42])"
      ]
     },
     "execution_count": 14,
     "metadata": {},
     "output_type": "execute_result"
    }
   ],
   "source": [
    "np.random.seed(100)\n",
    "C=np.random.randint(low=0, high=100,size=100)\n",
    "C\n",
    "\n",
    "#Creating 100 data between 0 to 100 celsius "
   ]
  },
  {
   "cell_type": "code",
   "execution_count": 15,
   "metadata": {
    "scrolled": true
   },
   "outputs": [
    {
     "name": "stdout",
     "output_type": "stream",
     "text": [
      "(100,)\n"
     ]
    },
    {
     "data": {
      "text/plain": [
       "array([ 8, 24, 67, 87, 79, 48, 10, 94, 52, 98])"
      ]
     },
     "execution_count": 15,
     "metadata": {},
     "output_type": "execute_result"
    }
   ],
   "source": [
    "print(C.shape)\n",
    "C[:10]\n",
    "\n",
    "#Checking C shape that has Celsius data. (100, ) has 100 data inside\n",
    "#Checking the first 10"
   ]
  },
  {
   "cell_type": "code",
   "execution_count": null,
   "metadata": {},
   "outputs": [],
   "source": []
  },
  {
   "cell_type": "markdown",
   "metadata": {},
   "source": [
    "### Calculating Fahrenheit using Celsius data"
   ]
  },
  {
   "cell_type": "code",
   "execution_count": 16,
   "metadata": {},
   "outputs": [
    {
     "data": {
      "text/plain": [
       "array([ 46.4,  75.2, 152.6, 188.6, 174.2, 118.4,  50. , 201.2, 125.6,\n",
       "       208.4, 127.4, 150.8, 208.4,  57.2,  93.2,  75.2,  59. , 140. ,\n",
       "       136.4,  60.8,  48.2, 199.4, 186.8,  35.6,  80.6,  39.2,  87.8,\n",
       "        33.8,  55.4, 181.4,  39.2, 195.8, 138.2, 152.6,  44.6, 120.2,\n",
       "       116.6, 149. , 141.8,  57.2, 131. , 159.8, 176. ,  35.6, 201.2,\n",
       "        66.2, 208.4, 145.4, 127.4,  80.6, 132.8,  86. , 118.4, 116.6,\n",
       "       102.2, 100.4, 111.2,  64.4, 147.2, 132.8,  93.2, 127.4, 165.2,\n",
       "        62.6, 161.6,  55.4,  86. ,  62.6, 127.4, 154.4, 122. , 195.8,\n",
       "       195.8, 181.4, 127.4, 172.4,  32. ,  55.4, 134.6, 168.8,  37.4,\n",
       "       158. ,  37.4, 183.2, 174.2,  50. , 188.6, 140. ,  37.4, 118.4,\n",
       "       125.6, 109.4,  96.8,  41. , 159.8, 100.4, 186.8, 201.2, 208.4,\n",
       "       107.6])"
      ]
     },
     "execution_count": 16,
     "metadata": {},
     "output_type": "execute_result"
    }
   ],
   "source": [
    "F=C*1.8 +32\n",
    "F\n",
    "\n",
    "# Gradient and Intercept are all given\n",
    "# F = Y or Label \n",
    "# C = X"
   ]
  },
  {
   "cell_type": "code",
   "execution_count": null,
   "metadata": {},
   "outputs": [],
   "source": []
  },
  {
   "cell_type": "markdown",
   "metadata": {},
   "source": [
    "## Visualisation\n",
    "### This shows Fehrenheit  & Celsius in  Linear Regression"
   ]
  },
  {
   "cell_type": "code",
   "execution_count": 17,
   "metadata": {},
   "outputs": [
    {
     "data": {
      "image/png": "[encoded data removed]",
      "text/plain": [
       "<Figure size 432x288 with 1 Axes>"
      ]
     },
     "metadata": {
      "needs_background": "light"
     },
     "output_type": "display_data"
    }
   ],
   "source": [
    "plt.scatter(C,F)\n",
    "plt.xlabel('Celsius Temp')\n",
    "plt.ylabel('Faharenhieght Temp')\n",
    "plt.show()"
   ]
  },
  {
   "cell_type": "code",
   "execution_count": null,
   "metadata": {},
   "outputs": [],
   "source": []
  },
  {
   "cell_type": "markdown",
   "metadata": {},
   "source": [
    "# Situation 2) Finding the Intercept (b) when the Gradient (a=1.8) is given\n",
    "### H(x) = aX + b\n",
    "#### Intercept (b) will be randomly given by using \"uniform( )\" which returns values based on the normal distribution"
   ]
  },
  {
   "cell_type": "code",
   "execution_count": 18,
   "metadata": {},
   "outputs": [
    {
     "data": {
      "text/plain": [
       "(1.8, 0.1404318003774494)"
      ]
     },
     "execution_count": 18,
     "metadata": {},
     "output_type": "execute_result"
    }
   ],
   "source": [
    "X=C\n",
    "Y=F\n",
    "\n",
    "a = 1.8     \n",
    "b=np.random.uniform(low =-1.0, high=+1.0)  \n",
    "\n",
    "# At first, intercept (b) is randomly given \n",
    "# uniform() is used to get any RANDOM number between low and high range based on the Normal Distribution\n",
    "# The training might not properly work when uniform() isn't used to get random data\n",
    "\n",
    "a,b"
   ]
  },
  {
   "cell_type": "code",
   "execution_count": 19,
   "metadata": {},
   "outputs": [
    {
     "data": {
      "text/plain": [
       "array([ 14.5404318,  43.3404318, 120.7404318, 156.7404318, 142.3404318,\n",
       "        86.5404318,  18.1404318, 169.3404318,  93.7404318, 176.5404318])"
      ]
     },
     "execution_count": 19,
     "metadata": {},
     "output_type": "execute_result"
    }
   ],
   "source": [
    "y_predict = a*X+b\n",
    "y_predict [0:10]\n",
    "\n",
    "# Predicted Fehrenheit with randomly assigned b"
   ]
  },
  {
   "cell_type": "code",
   "execution_count": 20,
   "metadata": {},
   "outputs": [
    {
     "data": {
      "text/plain": [
       "[<matplotlib.lines.Line2D at 0x1eb8f46b820>]"
      ]
     },
     "execution_count": 20,
     "metadata": {},
     "output_type": "execute_result"
    },
    {
     "data": {
      "image/png": "[encoded data removed]",
      "text/plain": [
       "<Figure size 432x288 with 1 Axes>"
      ]
     },
     "metadata": {
      "needs_background": "light"
     },
     "output_type": "display_data"
    }
   ],
   "source": [
    "plt.scatter(X,Y)\n",
    "plt.plot(X, y_predict, c='r')\n",
    "\n",
    "# Error shown in the plot"
   ]
  },
  {
   "cell_type": "code",
   "execution_count": 21,
   "metadata": {},
   "outputs": [
    {
     "data": {
      "text/plain": [
       "32.00000000000001"
      ]
     },
     "execution_count": 21,
     "metadata": {},
     "output_type": "execute_result"
    }
   ],
   "source": [
    "b= b-(y_predict -Y).mean()\n",
    "b\n",
    "\n",
    "# Theoradically it needs to go through MSE (Loss function)\n",
    "# Then return loss vlaue \n",
    "# Then used Gradient Descent method (using back propagation) to update b that can make error = 0\n",
    "# But this time, skipped MSE and just applied Gradient Descent method on b"
   ]
  },
  {
   "cell_type": "code",
   "execution_count": 22,
   "metadata": {},
   "outputs": [],
   "source": [
    "y_predict = a*X+b      \n",
    "# b is not a random value. Now it's updated to 32"
   ]
  },
  {
   "cell_type": "code",
   "execution_count": 23,
   "metadata": {},
   "outputs": [
    {
     "data": {
      "text/plain": [
       "[<matplotlib.lines.Line2D at 0x1eb9049ca00>]"
      ]
     },
     "execution_count": 23,
     "metadata": {},
     "output_type": "execute_result"
    },
    {
     "data": {
      "image/png": "[encoded data removed]",
      "text/plain": [
       "<Figure size 432x288 with 1 Axes>"
      ]
     },
     "metadata": {
      "needs_background": "light"
     },
     "output_type": "display_data"
    }
   ],
   "source": [
    "plt.scatter(X,Y)\n",
    "plt.plot(X, y_predict, c='r')\n",
    "\n",
    "# No more error shown in te plot"
   ]
  },
  {
   "cell_type": "code",
   "execution_count": null,
   "metadata": {},
   "outputs": [],
   "source": []
  },
  {
   "cell_type": "markdown",
   "metadata": {},
   "source": [
    "# Situation3) Finding Gradient and Intercept (nothing given)\n",
    "### MSE to calculate the cost value\n",
    "### Gradient Descent method (back propagation algorithm) to update weight to reduce the loss value to 0"
   ]
  },
  {
   "cell_type": "code",
   "execution_count": 59,
   "metadata": {},
   "outputs": [
    {
     "data": {
      "text/plain": [
       "(0.0976270078546495, 0.43037873274483895)"
      ]
     },
     "execution_count": 59,
     "metadata": {},
     "output_type": "execute_result"
    }
   ],
   "source": [
    "np.random.seed(0)\n",
    "w=np.random.uniform(low=-1.0, high=1.0)\n",
    "b=np.random.uniform(low=-1.0, high=1.0)\n",
    "w,b\n",
    "\n",
    "# 이번에는 가중치, 편향값 w와 b 모두 임의로 주고 편미분 공식 (마지막 두줄)을 이용해서 찾아보기"
   ]
  },
  {
   "cell_type": "code",
   "execution_count": 60,
   "metadata": {},
   "outputs": [
    {
     "data": {
      "text/plain": [
       "array([1.2113948 , 2.77342692, 6.97138826, 8.92392842, 8.14291235,\n",
       "       5.11647511, 1.40664881, 9.60731747, 5.50698314, 9.9978255 ])"
      ]
     },
     "execution_count": 60,
     "metadata": {},
     "output_type": "execute_result"
    }
   ],
   "source": [
    "y_predict = w*X +b\n",
    "y_predict[0:10]"
   ]
  },
  {
   "cell_type": "code",
   "execution_count": 61,
   "metadata": {
    "scrolled": true
   },
   "outputs": [
    {
     "data": {
      "text/plain": [
       "[<matplotlib.lines.Line2D at 0x26790a1d640>]"
      ]
     },
     "execution_count": 61,
     "metadata": {},
     "output_type": "execute_result"
    },
    {
     "data": {
      "image/png": "[encoded data removed]",
      "text/plain": [
       "<Figure size 432x288 with 1 Axes>"
      ]
     },
     "metadata": {
      "needs_background": "light"
     },
     "output_type": "display_data"
    }
   ],
   "source": [
    "plt.scatter(X,Y)\n",
    "plt.plot(X, y_predict, c='r')\n",
    "\n",
    "# Showing huge cost value (error)"
   ]
  },
  {
   "cell_type": "code",
   "execution_count": null,
   "metadata": {},
   "outputs": [],
   "source": []
  },
  {
   "cell_type": "markdown",
   "metadata": {},
   "source": [
    "## In Summary, \n",
    "### 1. Finalise Linear Regression (Gradient = Weight, Intercept = Bias)\n",
    "    Randomly assign weight or can be done by using Least Squared Method (LSM)\n",
    "### 2. Make predictions\n",
    "### 3. MSE to calculate cost value/loss value\n",
    "### 4. Training \n",
    "    Gradient Descent method (back propagation algorithm) to update W and b to make cost value/loss value close to 0"
   ]
  },
  {
   "cell_type": "code",
   "execution_count": 64,
   "metadata": {},
   "outputs": [
    {
     "name": "stdout",
     "output_type": "stream",
     "text": [
      "    0 w=2.200, b=0.821, error=18808.258\n",
      " 1000 w=2.231, b=3.267, error=224.784\n",
      " 2000 w=2.197, b=5.519, error=190.917\n",
      " 3000 w=2.166, b=7.596, error=162.153\n",
      " 4000 w=2.137, b=9.509, error=137.722\n",
      " 5000 w=2.111, b=11.272, error=116.972\n",
      " 6000 w=2.086, b=12.898, error=99.349\n",
      " 7000 w=2.064, b=14.395, error=84.380\n",
      " 8000 w=2.043, b=15.776, error=71.667\n",
      " 9000 w=2.024, b=17.048, error=60.869\n",
      "10000 w=2.007, b=18.220, error=51.699\n",
      "11000 w=1.990, b=19.301, error=43.909\n",
      "12000 w=1.975, b=20.296, error=37.294\n",
      "13000 w=1.962, b=21.214, error=31.675\n",
      "14000 w=1.949, b=22.060, error=26.903\n",
      "15000 w=1.937, b=22.839, error=22.849\n",
      "16000 w=1.927, b=23.557, error=19.407\n",
      "17000 w=1.917, b=24.219, error=16.483\n",
      "18000 w=1.908, b=24.829, error=14.000\n",
      "19000 w=1.899, b=25.392, error=11.890\n",
      "20000 w=1.891, b=25.910, error=10.099\n",
      "21000 w=1.884, b=26.387, error=8.577\n",
      "22000 w=1.878, b=26.827, error=7.285\n",
      "23000 w=1.871, b=27.233, error=6.187\n",
      "24000 w=1.866, b=27.607, error=5.255\n",
      "25000 w=1.861, b=27.951, error=4.463\n",
      "26000 w=1.856, b=28.269, error=3.791\n",
      "27000 w=1.852, b=28.561, error=3.220\n",
      "28000 w=1.848, b=28.831, error=2.735\n",
      "29000 w=1.844, b=29.079, error=2.323\n",
      "30000 w=1.840, b=29.308, error=1.973\n",
      "31000 w=1.837, b=29.519, error=1.675\n",
      "32000 w=1.834, b=29.714, error=1.423\n",
      "33000 w=1.832, b=29.893, error=1.209\n",
      "34000 w=1.829, b=30.058, error=1.027\n",
      "35000 w=1.827, b=30.210, error=0.872\n",
      "36000 w=1.825, b=30.351, error=0.741\n",
      "37000 w=1.823, b=30.480, error=0.629\n",
      "38000 w=1.821, b=30.599, error=0.534\n",
      "39000 w=1.819, b=30.709, error=0.454\n",
      "40000 w=1.818, b=30.810, error=0.385\n",
      "41000 w=1.816, b=30.904, error=0.327\n",
      "42000 w=1.815, b=30.990, error=0.278\n",
      "43000 w=1.814, b=31.069, error=0.236\n",
      "44000 w=1.813, b=31.142, error=0.201\n",
      "45000 w=1.812, b=31.209, error=0.170\n",
      "46000 w=1.811, b=31.271, error=0.145\n",
      "47000 w=1.810, b=31.328, error=0.123\n",
      "48000 w=1.809, b=31.381, error=0.104\n",
      "----------------------------------------------------------------------------------------------------\n",
      "48261 w=1.809, b=31.394, error=0.100\n"
     ]
    }
   ],
   "source": [
    "num_epoch = 70000\n",
    "learning_rate = 0.0003\n",
    "\n",
    "w=np.random.uniform(low=-1.0, high=1.0)\n",
    "b=np.random.uniform(low=-1.0, high=1.0)\n",
    "\n",
    "for epoch in range(num_epoch):\n",
    "    y_predict = w*X+b\n",
    "    #error = np.abs(y_predict - Y).mean()\n",
    "    error = np.sum((y_predict - Y)**2)/len(X)        # How MSE functions\n",
    "    \n",
    "    if(error < 0.1):\n",
    "        break \n",
    "        \n",
    "    \n",
    "    w= w - learning_rate*((y_predict -Y) *X ).mean()\n",
    "    b= b - learning_rate*((y_predict -Y)).mean()\n",
    "    # Gradient Descent method (back propagation algorithm)\n",
    "    # Update W and b to make cost value/loss value close to 0\n",
    "    \n",
    "    \n",
    "    if epoch %1000 ==0:\n",
    "        print(f\"{epoch:5} w={w:.3f}, b={b:.3f}, error={error:.3f}\")\n",
    "\n",
    "print(\"----------\"*10)\n",
    "print(f\"{epoch:5} w={w:.3f}, b={b:.3f}, error={error:.3f}\")"
   ]
  },
  {
   "cell_type": "code",
   "execution_count": 67,
   "metadata": {},
   "outputs": [
    {
     "data": {
      "text/plain": [
       "[<matplotlib.lines.Line2D at 0x26790b1c9d0>]"
      ]
     },
     "execution_count": 67,
     "metadata": {},
     "output_type": "execute_result"
    },
    {
     "data": {
      "image/png": "[encoded data removed]",
      "text/plain": [
       "<Figure size 432x288 with 1 Axes>"
      ]
     },
     "metadata": {
      "needs_background": "light"
     },
     "output_type": "display_data"
    }
   ],
   "source": [
    "plt.scatter(X,Y)\n",
    "plt.plot(X, y_predict, c='r')"
   ]
  },
  {
   "cell_type": "code",
   "execution_count": null,
   "metadata": {},
   "outputs": [],
   "source": []
  }
 ],
 "metadata": {
  "kernelspec": {
   "display_name": "Python 3 (ipykernel)",
   "language": "python",
   "name": "python3"
  },
  "language_info": {
   "codemirror_mode": {
    "name": "ipython",
    "version": 3
   },
   "file_extension": ".py",
   "mimetype": "text/x-python",
   "name": "python",
   "nbconvert_exporter": "python",
   "pygments_lexer": "ipython3",
   "version": "3.9.7"
  }
 },
 "nbformat": 4,
 "nbformat_minor": 4
}
